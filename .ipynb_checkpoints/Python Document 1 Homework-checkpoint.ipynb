{
 "cells": [
  {
   "cell_type": "markdown",
   "id": "004b0562",
   "metadata": {},
   "source": [
    "Assigning int"
   ]
  },
  {
   "cell_type": "code",
   "execution_count": 1,
   "id": "40fb952a",
   "metadata": {},
   "outputs": [
    {
     "name": "stdout",
     "output_type": "stream",
     "text": [
      "6\n"
     ]
    }
   ],
   "source": [
    "number = 6\n",
    "print(number)"
   ]
  },
  {
   "cell_type": "markdown",
   "id": "92309dc7",
   "metadata": {},
   "source": [
    "Assigning float"
   ]
  },
  {
   "cell_type": "code",
   "execution_count": 6,
   "id": "671e8b26",
   "metadata": {},
   "outputs": [
    {
     "name": "stdout",
     "output_type": "stream",
     "text": [
      "2.3\n",
      "7.2\n"
     ]
    }
   ],
   "source": [
    "numberFloat = 2.3\n",
    "print(numberFloat)\n",
    "numberFloat = 7.2\n",
    "print(numberFloat)"
   ]
  },
  {
   "cell_type": "markdown",
   "id": "446c347c",
   "metadata": {},
   "source": [
    "Addition"
   ]
  },
  {
   "cell_type": "markdown",
   "id": "589beb90",
   "metadata": {},
   "source": [
    "num1 = 2\n",
    "num2 = 5.4\n",
    "\n",
    "result = num1 + num2\n",
    "\n",
    "print(result)"
   ]
  },
  {
   "cell_type": "markdown",
   "id": "55abb9f8",
   "metadata": {},
   "source": [
    "Subtraction"
   ]
  },
  {
   "cell_type": "code",
   "execution_count": 10,
   "id": "5965bce7",
   "metadata": {},
   "outputs": [
    {
     "name": "stdout",
     "output_type": "stream",
     "text": [
      "3\n"
     ]
    }
   ],
   "source": [
    "num1 = 2\n",
    "num2 = 5.4\n",
    "\n",
    "result_diff = 5 - num1\n",
    "\n",
    "print(result_diff)"
   ]
  },
  {
   "cell_type": "markdown",
   "id": "258f72ad",
   "metadata": {},
   "source": [
    "Multiplication"
   ]
  },
  {
   "cell_type": "code",
   "execution_count": 11,
   "id": "a12a36be",
   "metadata": {},
   "outputs": [
    {
     "name": "stdout",
     "output_type": "stream",
     "text": [
      "10.8\n",
      "12.8\n"
     ]
    }
   ],
   "source": [
    "result_mul = num1 * num2\n",
    "print(result_mul)\n",
    "\n",
    "result_mul += 2\n",
    "print(result_mul)"
   ]
  },
  {
   "cell_type": "markdown",
   "id": "73cc0271",
   "metadata": {},
   "source": [
    "Division"
   ]
  },
  {
   "cell_type": "code",
   "execution_count": 12,
   "id": "12d962e6",
   "metadata": {},
   "outputs": [
    {
     "name": "stdout",
     "output_type": "stream",
     "text": [
      "2.7\n",
      "0.9\n"
     ]
    }
   ],
   "source": [
    "result_div = num2/num1\n",
    "print(result_div)\n",
    "\n",
    "result_div /= 3\n",
    "print(result_div)"
   ]
  },
  {
   "cell_type": "markdown",
   "id": "0361ba0c",
   "metadata": {},
   "source": [
    "Floor Division"
   ]
  },
  {
   "cell_type": "code",
   "execution_count": 14,
   "id": "9a9325ca",
   "metadata": {},
   "outputs": [
    {
     "name": "stdout",
     "output_type": "stream",
     "text": [
      "2.0\n",
      "1.0\n"
     ]
    }
   ],
   "source": [
    "result_floor = num2 // num1\n",
    "print(result_floor)\n",
    "\n",
    "result_floor //= 2\n",
    "print(result_floor)"
   ]
  },
  {
   "cell_type": "markdown",
   "id": "9bbfdd30",
   "metadata": {},
   "source": [
    "Modulo"
   ]
  },
  {
   "cell_type": "code",
   "execution_count": 16,
   "id": "7917ef9e",
   "metadata": {},
   "outputs": [
    {
     "name": "stdout",
     "output_type": "stream",
     "text": [
      "1.4000000000000004\n",
      "1.4000000000000004\n"
     ]
    }
   ],
   "source": [
    "result_mod = num2 % num1\n",
    "print(result_mod)\n",
    "\n",
    "result_mod %= 2\n",
    "print(result_mod)"
   ]
  },
  {
   "cell_type": "markdown",
   "id": "e5673a1e",
   "metadata": {},
   "source": [
    "Exponential"
   ]
  },
  {
   "cell_type": "code",
   "execution_count": 17,
   "id": "fa4a4468",
   "metadata": {},
   "outputs": [
    {
     "name": "stdout",
     "output_type": "stream",
     "text": [
      "25\n"
     ]
    }
   ],
   "source": [
    "square = 5 ** 2\n",
    "print(square)"
   ]
  },
  {
   "cell_type": "markdown",
   "id": "7df91811",
   "metadata": {},
   "source": [
    "String Assignment"
   ]
  },
  {
   "cell_type": "code",
   "execution_count": 20,
   "id": "d9308265",
   "metadata": {},
   "outputs": [
    {
     "name": "stdout",
     "output_type": "stream",
     "text": [
      "Brandon\n"
     ]
    }
   ],
   "source": [
    "name = \"Brandon\"\n",
    "print(name)"
   ]
  },
  {
   "cell_type": "markdown",
   "id": "8a825270",
   "metadata": {},
   "source": [
    "print() - Don't forget about end=\" \""
   ]
  },
  {
   "cell_type": "code",
   "execution_count": 23,
   "id": "40690ad1",
   "metadata": {},
   "outputs": [
    {
     "name": "stdout",
     "output_type": "stream",
     "text": [
      "This is my first name: Brandon\n",
      "Full Name: Brandon Apol"
     ]
    }
   ],
   "source": [
    "print(\"This is my first name:\", name)\n",
    "\n",
    "print(\"Full Name:\", name, end=\" Apol\")"
   ]
  },
  {
   "cell_type": "markdown",
   "id": "550638c0",
   "metadata": {},
   "source": [
    "String Concatenation"
   ]
  },
  {
   "cell_type": "code",
   "execution_count": 26,
   "id": "b6c9a42a",
   "metadata": {},
   "outputs": [
    {
     "name": "stdout",
     "output_type": "stream",
     "text": [
      "John Smith\n",
      "John Smith, Jr\n"
     ]
    }
   ],
   "source": [
    "first_name = \"John\"\n",
    "last_name = \"Smith\"\n",
    "\n",
    "full_name = first_name + \" \" + last_name\n",
    "print(full_name)\n",
    "\n",
    "full_name += \", Jr\"\n",
    "print(full_name)"
   ]
  },
  {
   "cell_type": "markdown",
   "id": "2314ca2e",
   "metadata": {},
   "source": [
    "Type Conversion"
   ]
  },
  {
   "cell_type": "code",
   "execution_count": 30,
   "id": "8f6e0c61",
   "metadata": {},
   "outputs": [
    {
     "name": "stdout",
     "output_type": "stream",
     "text": [
      "32\n",
      "32\n"
     ]
    }
   ],
   "source": [
    "number = \"32\"\n",
    "\n",
    "change_type_num = int(number)\n",
    "print(number)\n",
    "print(change_type_num)"
   ]
  },
  {
   "cell_type": "markdown",
   "id": "3c356333",
   "metadata": {},
   "source": [
    "input()"
   ]
  },
  {
   "cell_type": "code",
   "execution_count": 35,
   "id": "9767c254",
   "metadata": {},
   "outputs": [
    {
     "name": "stdout",
     "output_type": "stream",
     "text": [
      "What is your name? nathan\n",
      "Nice to meet you, nathan\n"
     ]
    }
   ],
   "source": [
    "# input will always return a string\n",
    "\n",
    "name = input(\"What is your name? \")\n",
    "print(\"Nice to meet you, \" + name)"
   ]
  },
  {
   "cell_type": "markdown",
   "id": "9ffcd85a",
   "metadata": {},
   "source": [
    "format()"
   ]
  },
  {
   "cell_type": "code",
   "execution_count": 34,
   "id": "f1e9b542",
   "metadata": {},
   "outputs": [
    {
     "name": "stdout",
     "output_type": "stream",
     "text": [
      "What is your age? 13\n",
      "You are 13 nathan and you are getting wiser!\n",
      "13 is a great time in life!!!\n"
     ]
    }
   ],
   "source": [
    "age = input(\"What is your age? \")\n",
    "\n",
    "result_string = \"You are {} {} and you are getting wiser!\".format(age, name)\n",
    "print(result_string)\n",
    "\n",
    "result_again = f\"{age} is a great time in life!!!\"\n",
    "print(result_again)"
   ]
  },
  {
   "cell_type": "markdown",
   "id": "a2c9a620",
   "metadata": {},
   "source": [
    "Old Way (python 2)"
   ]
  },
  {
   "cell_type": "code",
   "execution_count": 58,
   "id": "2b7ced1d",
   "metadata": {},
   "outputs": [
    {
     "name": "stdout",
     "output_type": "stream",
     "text": [
      "You are 13 and you look great for your age!\n"
     ]
    }
   ],
   "source": [
    "result_string2 = \"You are %s and you look great for your age!\" %age\n",
    "print(result_string2)"
   ]
  },
  {
   "cell_type": "markdown",
   "id": "54b54c93",
   "metadata": {},
   "source": [
    "if Statements"
   ]
  },
  {
   "cell_type": "markdown",
   "id": "6d9b7bf8",
   "metadata": {},
   "source": [
    "Available operators: Greater(>), Less(<), Equal(==)\n",
    "Greater or Equal(>=), Less or Equal(<=)\n",
    "\n",
    "Truth Tree:\n",
    "T and F = F\n",
    "T and T = T\n",
    "T // F = T\n",
    "F // T = T\n",
    "F // F = F"
   ]
  },
  {
   "cell_type": "code",
   "execution_count": 59,
   "id": "68dac894",
   "metadata": {},
   "outputs": [
    {
     "name": "stdout",
     "output_type": "stream",
     "text": [
      "Num2 is greater\n"
     ]
    }
   ],
   "source": [
    "num1 = 5\n",
    "num2 = 10\n",
    "num3 = 0\n",
    "\n",
    "# if num1 == num2:\n",
    "#     print('Equal Values')\n",
    "# else:\n",
    "#     print('Not Equal')\n",
    "\n",
    "if num2 > num1 or num3 > 0:\n",
    "    print('Num2 is greater')\n",
    "elif num1 > num2:\n",
    "    print('Num1 is greater')\n",
    "else:\n",
    "    print('Equal values')"
   ]
  },
  {
   "cell_type": "markdown",
   "id": "fff0d402",
   "metadata": {},
   "source": [
    "\"is\" keyword (==)\n",
    "The is keyword is for checking for the same object but not the same value"
   ]
  },
  {
   "cell_type": "code",
   "execution_count": 61,
   "id": "9f3f3d0d",
   "metadata": {},
   "outputs": [
    {
     "name": "stdout",
     "output_type": "stream",
     "text": [
      "This is the exact number/object\n"
     ]
    }
   ],
   "source": [
    "num3 = 55\n",
    "\n",
    "if num3 == 55:\n",
    "    print('This is the exact number/object')"
   ]
  },
  {
   "cell_type": "markdown",
   "id": "d81bf6b9",
   "metadata": {},
   "source": [
    "\"in\" keyword\n",
    "Check if a character is in a string"
   ]
  },
  {
   "cell_type": "code",
   "execution_count": 62,
   "id": "732f54d3",
   "metadata": {},
   "outputs": [
    {
     "name": "stdout",
     "output_type": "stream",
     "text": [
      "The ring bearer\n"
     ]
    }
   ],
   "source": [
    "char_name = \"Frodo Baggins\"\n",
    "\n",
    "if \"Frodo\" in char_name:\n",
    "    print(\"The ring bearer\")"
   ]
  },
  {
   "cell_type": "markdown",
   "id": "0bcebf3d",
   "metadata": {},
   "source": [
    "\"not in\" keyword"
   ]
  },
  {
   "cell_type": "code",
   "execution_count": 63,
   "id": "70d26be1",
   "metadata": {},
   "outputs": [
    {
     "name": "stdout",
     "output_type": "stream",
     "text": [
      "a is NOT here...\n"
     ]
    }
   ],
   "source": [
    "sega_char = \"Sonic\"\n",
    "\n",
    "if \"a\" not in sega_char:\n",
    "    print(\"a is NOT here...\")"
   ]
  },
  {
   "cell_type": "markdown",
   "id": "9790793f",
   "metadata": {},
   "source": [
    "Using \"and\"/\"or\" with if Statements"
   ]
  },
  {
   "cell_type": "code",
   "execution_count": 64,
   "id": "0c277e8d",
   "metadata": {},
   "outputs": [
    {
     "name": "stdout",
     "output_type": "stream",
     "text": [
      "True and True\n",
      "False and True\n"
     ]
    }
   ],
   "source": [
    "num_11 = 15\n",
    "num_12 = 3\n",
    "num_13 = 10\n",
    "num_14 = 3\n",
    "\n",
    "# If with \"and\" statement\n",
    "if num_11 / 5 == num_12 and num_13 - 7 == num_14:\n",
    "    print('True and True')\n",
    "\n",
    "# If with \"or\" statement    \n",
    "if num_13 == num_14 or num_11 > num_12:\n",
    "    print('False and True')"
   ]
  },
  {
   "cell_type": "markdown",
   "id": "07646097",
   "metadata": {},
   "source": [
    "Elif OR Else Statements"
   ]
  },
  {
   "cell_type": "code",
   "execution_count": 65,
   "id": "908537de",
   "metadata": {},
   "outputs": [
    {
     "name": "stdout",
     "output_type": "stream",
     "text": [
      "What is your name? Brandon\n",
      "The name is Brandon\n"
     ]
    }
   ],
   "source": [
    "first_name = input(\"What is your name? \")\n",
    "\n",
    "if first_name == \"Smith\":\n",
    "    print(\"The name is Smith.\")\n",
    "elif first_name == \"Brandon\":\n",
    "    print(\"The name is Brandon\")\n",
    "elif first_name != \"Max\":\n",
    "    print(\"The name is NOT Max\")\n",
    "else:\n",
    "    print(\"The name is Max\")"
   ]
  },
  {
   "cell_type": "markdown",
   "id": "7aa658f3",
   "metadata": {},
   "source": [
    "For Loops\n",
    "\n",
    "Syntax - for counter in condition\n",
    "\n",
    "Continue Statement as well"
   ]
  },
  {
   "cell_type": "code",
   "execution_count": 55,
   "id": "a2960661",
   "metadata": {},
   "outputs": [
    {
     "name": "stdout",
     "output_type": "stream",
     "text": [
      "N\n",
      "t\n",
      "h\n",
      "n\n",
      " \n",
      "C\n",
      "u\n",
      "r\n",
      "t\n",
      "i\n",
      "s\n"
     ]
    }
   ],
   "source": [
    "name = \"Nathan Curtis\"\n",
    "\n",
    "for i in name:\n",
    "    if i == \"a\":\n",
    "        continue\n",
    "    print(i)"
   ]
  },
  {
   "cell_type": "code",
   "execution_count": null,
   "id": "87c82881",
   "metadata": {},
   "outputs": [],
   "source": [
    "Using \"in\" keyword\n",
    "SEE ABOVE"
   ]
  },
  {
   "cell_type": "markdown",
   "id": "30e474bc",
   "metadata": {},
   "source": [
    "Break Statement\n",
    "Will break out of current loop"
   ]
  },
  {
   "cell_type": "code",
   "execution_count": 66,
   "id": "75d3a0ba",
   "metadata": {},
   "outputs": [
    {
     "name": "stdout",
     "output_type": "stream",
     "text": [
      "0\n",
      "1\n",
      "2\n",
      "3\n",
      "4\n"
     ]
    }
   ],
   "source": [
    "for i in range(20):\n",
    "    if i == 5:\n",
    "        break\n",
    "    print(i)"
   ]
  },
  {
   "cell_type": "markdown",
   "id": "9f5088ff",
   "metadata": {},
   "source": [
    "Pass Statement\n",
    "Mostly used as a placeholder, and will continue on same iteration"
   ]
  },
  {
   "cell_type": "code",
   "execution_count": 68,
   "id": "5dd3f611",
   "metadata": {},
   "outputs": [],
   "source": [
    "name = \"Nathan Curtis\"\n",
    "\n",
    "for i in name:\n",
    "    pass"
   ]
  },
  {
   "cell_type": "markdown",
   "id": "65558be9",
   "metadata": {},
   "source": [
    "Double For Loops"
   ]
  },
  {
   "cell_type": "code",
   "execution_count": 69,
   "id": "883d6ee6",
   "metadata": {},
   "outputs": [
    {
     "name": "stdout",
     "output_type": "stream",
     "text": [
      "i =  0 j =  0\n",
      "i =  0 j =  1\n",
      "i =  0 j =  2\n",
      "i =  0 j =  3\n",
      "i =  0 j =  4\n",
      "i =  1 j =  0\n",
      "i =  1 j =  1\n",
      "i =  1 j =  2\n",
      "i =  1 j =  3\n",
      "i =  1 j =  4\n",
      "i =  2 j =  0\n",
      "i =  2 j =  1\n",
      "i =  2 j =  2\n",
      "i =  2 j =  3\n",
      "i =  2 j =  4\n",
      "i =  3 j =  0\n",
      "i =  3 j =  1\n",
      "i =  3 j =  2\n",
      "i =  3 j =  3\n",
      "i =  3 j =  4\n",
      "i =  4 j =  0\n",
      "i =  4 j =  1\n",
      "i =  4 j =  2\n",
      "i =  4 j =  3\n",
      "i =  4 j =  4\n"
     ]
    }
   ],
   "source": [
    "for i in range(5):\n",
    "    for j in range(5):\n",
    "        print(\"i = \", i, \"j = \", j)"
   ]
  },
  {
   "cell_type": "markdown",
   "id": "75a7a1fd",
   "metadata": {},
   "source": [
    "While Loops\n",
    "Syntax - while keyword, condition statement"
   ]
  },
  {
   "cell_type": "code",
   "execution_count": 70,
   "id": "ef1b3c8d",
   "metadata": {},
   "outputs": [
    {
     "name": "stdout",
     "output_type": "stream",
     "text": [
      "0\n",
      "1\n",
      "2\n",
      "3\n",
      "4\n",
      "5\n",
      "6\n",
      "7\n",
      "8\n",
      "9\n"
     ]
    }
   ],
   "source": [
    "num = 0\n",
    "\n",
    "while num < 10:\n",
    "    print(num)\n",
    "    num += 1"
   ]
  },
  {
   "cell_type": "markdown",
   "id": "8742cf45",
   "metadata": {},
   "source": [
    "Looping \"While True\" - Dangerous practice!"
   ]
  },
  {
   "cell_type": "code",
   "execution_count": 71,
   "id": "33a632e6",
   "metadata": {},
   "outputs": [
    {
     "name": "stdout",
     "output_type": "stream",
     "text": [
      "Infinite Loop\n",
      "Would you like to stop? No\n",
      "Infinite Loop\n",
      "Would you like to stop? Yes\n"
     ]
    }
   ],
   "source": [
    "game_over = True\n",
    "\n",
    "while game_over:\n",
    "    print(\"Infinite Loop\")\n",
    "    user_input = input(\"Would you like to stop? \")\n",
    "    if user_input == \"Yes\":\n",
    "        game_over = False"
   ]
  },
  {
   "cell_type": "markdown",
   "id": "911f389d",
   "metadata": {},
   "source": [
    "While & For Loops Used Together"
   ]
  },
  {
   "cell_type": "code",
   "execution_count": 73,
   "id": "853d185d",
   "metadata": {},
   "outputs": [
    {
     "name": "stdout",
     "output_type": "stream",
     "text": [
      "\n",
      "While loop iteration: 0\n",
      "For loop iteration:  1\n",
      "For loop iteration:  2\n",
      "\n",
      "While loop iteration: 1\n",
      "For loop iteration:  1\n",
      "For loop iteration:  2\n",
      "\n",
      "While loop iteration: 2\n",
      "For loop iteration:  1\n",
      "For loop iteration:  2\n",
      "\n",
      "While loop iteration: 3\n",
      "For loop iteration:  1\n",
      "For loop iteration:  2\n",
      "\n",
      "While loop iteration: 4\n",
      "For loop iteration:  1\n",
      "For loop iteration:  2\n"
     ]
    }
   ],
   "source": [
    "num = 0\n",
    "\n",
    "while num < 5:\n",
    "    print(\"\\nWhile loop iteration: \" + str(num))\n",
    "    \n",
    "    for i in range(2):\n",
    "        print(\"For loop iteration: \", str(i + 1))\n",
    "        \n",
    "    num += 1"
   ]
  },
  {
   "cell_type": "markdown",
   "id": "ca00d314",
   "metadata": {},
   "source": [
    "Built-In Functions"
   ]
  },
  {
   "cell_type": "markdown",
   "id": "f3af6698",
   "metadata": {},
   "source": [
    "range()\n",
    "range(start, stop, step)"
   ]
  },
  {
   "cell_type": "code",
   "execution_count": 76,
   "id": "ca0145a6",
   "metadata": {},
   "outputs": [
    {
     "name": "stdout",
     "output_type": "stream",
     "text": [
      "2\n",
      "4\n",
      "6\n",
      "8\n",
      "10\n",
      "12\n",
      "14\n",
      "16\n",
      "18\n"
     ]
    }
   ],
   "source": [
    "for i in range(2, 20, 2):\n",
    "    print(i)"
   ]
  },
  {
   "cell_type": "markdown",
   "id": "b8c48c82",
   "metadata": {},
   "source": [
    "len()\n",
    "Checks length of a variable"
   ]
  },
  {
   "cell_type": "code",
   "execution_count": 77,
   "id": "cd02bfd7",
   "metadata": {},
   "outputs": [
    {
     "name": "stdout",
     "output_type": "stream",
     "text": [
      "3\n"
     ]
    }
   ],
   "source": [
    "name = \"Max\"\n",
    "\n",
    "length = len(name)\n",
    "print(length)"
   ]
  },
  {
   "cell_type": "markdown",
   "id": "6028bb9f",
   "metadata": {},
   "source": [
    "help()\n",
    "Use this function to view more info about a python function"
   ]
  },
  {
   "cell_type": "code",
   "execution_count": 78,
   "id": "047fe06b",
   "metadata": {},
   "outputs": [
    {
     "name": "stdout",
     "output_type": "stream",
     "text": [
      "Help on class range in module builtins:\n",
      "\n",
      "class range(object)\n",
      " |  range(stop) -> range object\n",
      " |  range(start, stop[, step]) -> range object\n",
      " |  \n",
      " |  Return an object that produces a sequence of integers from start (inclusive)\n",
      " |  to stop (exclusive) by step.  range(i, j) produces i, i+1, i+2, ..., j-1.\n",
      " |  start defaults to 0, and stop is omitted!  range(4) produces 0, 1, 2, 3.\n",
      " |  These are exactly the valid indices for a list of 4 elements.\n",
      " |  When step is given, it specifies the increment (or decrement).\n",
      " |  \n",
      " |  Methods defined here:\n",
      " |  \n",
      " |  __bool__(self, /)\n",
      " |      True if self else False\n",
      " |  \n",
      " |  __contains__(self, key, /)\n",
      " |      Return key in self.\n",
      " |  \n",
      " |  __eq__(self, value, /)\n",
      " |      Return self==value.\n",
      " |  \n",
      " |  __ge__(self, value, /)\n",
      " |      Return self>=value.\n",
      " |  \n",
      " |  __getattribute__(self, name, /)\n",
      " |      Return getattr(self, name).\n",
      " |  \n",
      " |  __getitem__(self, key, /)\n",
      " |      Return self[key].\n",
      " |  \n",
      " |  __gt__(self, value, /)\n",
      " |      Return self>value.\n",
      " |  \n",
      " |  __hash__(self, /)\n",
      " |      Return hash(self).\n",
      " |  \n",
      " |  __iter__(self, /)\n",
      " |      Implement iter(self).\n",
      " |  \n",
      " |  __le__(self, value, /)\n",
      " |      Return self<=value.\n",
      " |  \n",
      " |  __len__(self, /)\n",
      " |      Return len(self).\n",
      " |  \n",
      " |  __lt__(self, value, /)\n",
      " |      Return self<value.\n",
      " |  \n",
      " |  __ne__(self, value, /)\n",
      " |      Return self!=value.\n",
      " |  \n",
      " |  __reduce__(...)\n",
      " |      Helper for pickle.\n",
      " |  \n",
      " |  __repr__(self, /)\n",
      " |      Return repr(self).\n",
      " |  \n",
      " |  __reversed__(...)\n",
      " |      Return a reverse iterator.\n",
      " |  \n",
      " |  count(...)\n",
      " |      rangeobject.count(value) -> integer -- return number of occurrences of value\n",
      " |  \n",
      " |  index(...)\n",
      " |      rangeobject.index(value) -> integer -- return index of value.\n",
      " |      Raise ValueError if the value is not present.\n",
      " |  \n",
      " |  ----------------------------------------------------------------------\n",
      " |  Static methods defined here:\n",
      " |  \n",
      " |  __new__(*args, **kwargs) from builtins.type\n",
      " |      Create and return a new object.  See help(type) for accurate signature.\n",
      " |  \n",
      " |  ----------------------------------------------------------------------\n",
      " |  Data descriptors defined here:\n",
      " |  \n",
      " |  start\n",
      " |  \n",
      " |  step\n",
      " |  \n",
      " |  stop\n",
      "\n"
     ]
    }
   ],
   "source": [
    "help(range)"
   ]
  },
  {
   "cell_type": "markdown",
   "id": "eb0a8dac",
   "metadata": {},
   "source": [
    "isinstance()\n",
    "Check a variable to find out what an object family or data type it belongs to\n",
    "isinstance(var, type)"
   ]
  },
  {
   "cell_type": "code",
   "execution_count": 84,
   "id": "88b8b774",
   "metadata": {},
   "outputs": [
    {
     "name": "stdout",
     "output_type": "stream",
     "text": [
      "4.5021 is a float!\n"
     ]
    }
   ],
   "source": [
    "num = 4.5021\n",
    "if isinstance(num, int):\n",
    "    print(f\"{num} is an int!\")\n",
    "else:\n",
    "    print(f\"{num} is a float!\")"
   ]
  },
  {
   "cell_type": "markdown",
   "id": "02def9ac",
   "metadata": {},
   "source": [
    "abs() - absolute value"
   ]
  },
  {
   "cell_type": "code",
   "execution_count": 85,
   "id": "0824ad6b",
   "metadata": {},
   "outputs": [
    {
     "name": "stdout",
     "output_type": "stream",
     "text": [
      "5\n"
     ]
    }
   ],
   "source": [
    "print(abs(-5))"
   ]
  },
  {
   "cell_type": "markdown",
   "id": "6af7766b",
   "metadata": {},
   "source": [
    "Try and Except\n",
    "Use this to log out graceful and useful error messages\n",
    "Does not stop the program"
   ]
  },
  {
   "cell_type": "code",
   "execution_count": 87,
   "id": "3e4020e6",
   "metadata": {},
   "outputs": [
    {
     "name": "stdout",
     "output_type": "stream",
     "text": [
      "Guess a numberzoom\n",
      "That didn't work! Change your input to a number!\n"
     ]
    }
   ],
   "source": [
    "try:\n",
    "    input_num = int(input(\"Guess a number\"))\n",
    "    print(\"Your number is: \" + str(input_num))\n",
    "except:\n",
    "    print(\"That didn't work! Change your input to a number!\")"
   ]
  },
  {
   "cell_type": "markdown",
   "id": "8787a69a",
   "metadata": {},
   "source": [
    "Declaring Lists"
   ]
  },
  {
   "cell_type": "code",
   "execution_count": 57,
   "id": "73b22686",
   "metadata": {},
   "outputs": [
    {
     "name": "stdout",
     "output_type": "stream",
     "text": [
      "['max', 'cindy', 'kathy', 'bob', 'nate']\n"
     ]
    }
   ],
   "source": [
    "list_1 = []\n",
    "\n",
    "names = ['max', 'cindy', 'kathy', 'bob', 'nate']\n",
    "print(names)"
   ]
  },
  {
   "cell_type": "markdown",
   "id": "ccbf2b92",
   "metadata": {},
   "source": [
    "Indexing a List"
   ]
  },
  {
   "cell_type": "code",
   "execution_count": null,
   "id": "be9576d7",
   "metadata": {},
   "outputs": [],
   "source": [
    "# list_name[start: stop: step]\n",
    "\n",
    "# Single Index\n",
    "print(names[1])\n",
    "\n",
    "# Print starting at index 1 going to the end\n",
    "print(names[1:])\n",
    "\n",
    "# Print starting at the beginning of a list up until a number\n",
    "print(names[:2])\n",
    "\n",
    "# Print starting at index 1 and going up BY 2 in each iteration\n",
    "print(names[1::2])\n",
    "\n",
    "#Print starting at the back and display in reverse order\n",
    "print(names[::-1])"
   ]
  },
  {
   "cell_type": "markdown",
   "id": "8243ad69",
   "metadata": {},
   "source": [
    ".append()"
   ]
  },
  {
   "cell_type": "code",
   "execution_count": 88,
   "id": "bedbb2d1",
   "metadata": {},
   "outputs": [
    {
     "name": "stdout",
     "output_type": "stream",
     "text": [
      "['max', 'cindy', 'kathy', 'bob', 'nate', 'Nathan']\n"
     ]
    }
   ],
   "source": [
    "names.append(\"Nathan\")\n",
    "print(names)"
   ]
  },
  {
   "cell_type": "markdown",
   "id": "f9e85eb9",
   "metadata": {},
   "source": [
    ".insert()"
   ]
  },
  {
   "cell_type": "code",
   "execution_count": 89,
   "id": "36bb8bcd",
   "metadata": {},
   "outputs": [
    {
     "name": "stdout",
     "output_type": "stream",
     "text": [
      "['max', 'cindy', 'kathy', 'Devon', 'bob', 'nate', 'Nathan']\n"
     ]
    }
   ],
   "source": [
    "names.insert(3,\"Devon\")\n",
    "print(names)"
   ]
  },
  {
   "cell_type": "markdown",
   "id": "cb243c58",
   "metadata": {},
   "source": [
    ".pop()\n",
    "Defaults to the last value if no parameter is given\n",
    "Pop returns the element that was removed in case you want to assign it to a variable"
   ]
  },
  {
   "cell_type": "code",
   "execution_count": 90,
   "id": "02ccbd77",
   "metadata": {},
   "outputs": [
    {
     "name": "stdout",
     "output_type": "stream",
     "text": [
      "kathy\n",
      "['max', 'cindy', 'Devon', 'bob', 'nate', 'Nathan']\n"
     ]
    }
   ],
   "source": [
    "my_name = names.pop(2)\n",
    "print(my_name)\n",
    "print(names)"
   ]
  },
  {
   "cell_type": "markdown",
   "id": "f2fc88ac",
   "metadata": {},
   "source": [
    ".remove()\n",
    "Value to be removed rather than index"
   ]
  },
  {
   "cell_type": "code",
   "execution_count": 91,
   "id": "fac84099",
   "metadata": {},
   "outputs": [
    {
     "name": "stdout",
     "output_type": "stream",
     "text": [
      "['max', 'cindy', 'Devon', 'bob', 'nate']\n"
     ]
    }
   ],
   "source": [
    "names.remove(\"Nathan\")\n",
    "print(names)"
   ]
  },
  {
   "cell_type": "markdown",
   "id": "cad9988f",
   "metadata": {},
   "source": [
    "del()\n",
    "Goes by index, rather than value\n",
    "Be careful with del, it can cause indexing errors if not used carefully"
   ]
  },
  {
   "cell_type": "code",
   "execution_count": 92,
   "id": "01cb61b9",
   "metadata": {},
   "outputs": [
    {
     "name": "stdout",
     "output_type": "stream",
     "text": [
      "['max', 'Devon', 'bob', 'nate']\n"
     ]
    }
   ],
   "source": [
    "del(names[1])\n",
    "print(names)"
   ]
  },
  {
   "cell_type": "markdown",
   "id": "2c12543b",
   "metadata": {},
   "source": [
    "Concatenating Two Lists\n",
    "Will append two lists together, will not add values"
   ]
  },
  {
   "cell_type": "code",
   "execution_count": 95,
   "id": "f1c0d932",
   "metadata": {},
   "outputs": [
    {
     "name": "stdout",
     "output_type": "stream",
     "text": [
      "[0, 1, 2, 3, 4, 5]\n"
     ]
    }
   ],
   "source": [
    "list_2 = [0, 1, 2]\n",
    "list_3 = [3, 4, 5]\n",
    "\n",
    "large_list = list_2 + list_3\n",
    "print(large_list)"
   ]
  },
  {
   "cell_type": "markdown",
   "id": "01383bbf",
   "metadata": {},
   "source": [
    "Lists Within Lists\n",
    "Lists can hold ANY type of other element! Including other lists\n",
    "They can go as deep as you want; this is called nested lists"
   ]
  },
  {
   "cell_type": "code",
   "execution_count": 94,
   "id": "07d7dc3e",
   "metadata": {},
   "outputs": [
    {
     "name": "stdout",
     "output_type": "stream",
     "text": [
      "['Max', 'sam', 'Josh', ['Sally', 'Sue', 'Tameka']]\n",
      "Sue\n"
     ]
    }
   ],
   "source": [
    "names = [\"Max\", \"sam\", \"Josh\", [\"Sally\", \"Sue\", \"Tameka\"]]\n",
    "print(names)\n",
    "print(names[3][1])"
   ]
  },
  {
   "cell_type": "markdown",
   "id": "782ccfaf",
   "metadata": {},
   "source": [
    "Looping Through Lists\n",
    "Two ways to loop through a list. One is by index; the other is by using the \"in\" keyword"
   ]
  },
  {
   "cell_type": "code",
   "execution_count": 97,
   "id": "1b953839",
   "metadata": {},
   "outputs": [
    {
     "name": "stdout",
     "output_type": "stream",
     "text": [
      "Max\n",
      "sam\n",
      "Josh\n",
      "['Sally', 'Sue', 'Tameka']\n",
      "Max\n",
      "sam\n",
      "Josh\n",
      "['Sally', 'Sue', 'Tameka']\n"
     ]
    }
   ],
   "source": [
    "# By index\n",
    "for i in range(len(names)):\n",
    "    print(names[i])\n",
    "    \n",
    "# Loop with \"in\"\n",
    "for i in names:\n",
    "    print(i)"
   ]
  },
  {
   "cell_type": "markdown",
   "id": "c807a218",
   "metadata": {},
   "source": [
    "Exercise #1\n",
    "\n",
    "Cube Number Test... Print out all cubed numbers up to the total value of 1000. Meaning that if the cubed number is over 1000, break the loop."
   ]
  },
  {
   "cell_type": "code",
   "execution_count": 98,
   "id": "bafef4c3",
   "metadata": {},
   "outputs": [
    {
     "name": "stdout",
     "output_type": "stream",
     "text": [
      "1\n",
      "8\n",
      "27\n",
      "64\n",
      "125\n",
      "216\n",
      "343\n",
      "512\n",
      "729\n",
      "1000\n"
     ]
    }
   ],
   "source": [
    "for i in range(1, 1001):\n",
    "    if i**3 > 1000:\n",
    "        break\n",
    "    print(i**3)"
   ]
  },
  {
   "cell_type": "markdown",
   "id": "702347f1",
   "metadata": {},
   "source": [
    "Exercise #2\n",
    "\n",
    "Get first prime numbers up to 100."
   ]
  },
  {
   "cell_type": "code",
   "execution_count": 100,
   "id": "c320f1fb",
   "metadata": {},
   "outputs": [
    {
     "name": "stdout",
     "output_type": "stream",
     "text": [
      "2\n",
      "3\n",
      "5\n",
      "7\n",
      "11\n",
      "13\n",
      "17\n",
      "19\n",
      "23\n",
      "29\n",
      "31\n",
      "37\n",
      "41\n",
      "43\n",
      "47\n",
      "53\n",
      "59\n",
      "61\n",
      "67\n",
      "71\n",
      "73\n",
      "79\n",
      "83\n",
      "89\n",
      "97\n"
     ]
    }
   ],
   "source": [
    "# Hint::\n",
    "# An else after an if runs if the if didn't\n",
    "# An else after a for runs if the for didn't break\n",
    "\n",
    "lower = 1\n",
    "upper = 100\n",
    "\n",
    "for num in range(lower, upper+1):\n",
    "    if num > 1:\n",
    "        for i in range(2, num):\n",
    "            if (num % i) == 0:\n",
    "                break\n",
    "        else:\n",
    "            print(num)\n"
   ]
  },
  {
   "cell_type": "markdown",
   "id": "f1f4d99e",
   "metadata": {},
   "source": [
    "Exercise #3\n",
    "\n",
    "Take in a users input for their age, if they are younger than 18, print kids. If they're 18-65, print adults. Else, print seniors."
   ]
  },
  {
   "cell_type": "code",
   "execution_count": 102,
   "id": "4d6bbb34",
   "metadata": {},
   "outputs": [
    {
     "name": "stdout",
     "output_type": "stream",
     "text": [
      "Enter your age: 19\n",
      "adults\n"
     ]
    }
   ],
   "source": [
    "age = int(input(\"Enter your age: \"))\n",
    "if age < 18:\n",
    "    print(\"kids\")\n",
    "elif age >= 18 and age <= 65:\n",
    "    print(\"adults\")\n",
    "else:\n",
    "    print(\"seniors\")"
   ]
  }
 ],
 "metadata": {
  "kernelspec": {
   "display_name": "Python 3 (ipykernel)",
   "language": "python",
   "name": "python3"
  },
  "language_info": {
   "codemirror_mode": {
    "name": "ipython",
    "version": 3
   },
   "file_extension": ".py",
   "mimetype": "text/x-python",
   "name": "python",
   "nbconvert_exporter": "python",
   "pygments_lexer": "ipython3",
   "version": "3.9.13"
  }
 },
 "nbformat": 4,
 "nbformat_minor": 5
}
